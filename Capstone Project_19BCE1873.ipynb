{
 "cells": [
  {
   "cell_type": "markdown",
   "id": "f82001d3",
   "metadata": {},
   "source": [
    "# CSE1904 Capstone Project \n",
    "\n",
    "### Author: ASHWANI PRASAD\n",
    "### Register No.: 19BCE1873\n",
    "### Guide: KARMEL A\n",
    "\n",
    "## Project Title: Detection of DoS Attacks in Wireless Sensor Networks using Evolutionary Algorithms and Machine Learning"
   ]
  },
  {
   "cell_type": "code",
   "execution_count": 3,
   "id": "788696db",
   "metadata": {},
   "outputs": [],
   "source": [
    "# Importing Python libraries\n",
    "import tensorflow as tf\n",
    "import matplotlib.pyplot as plt\n",
    "import pandas as pd\n",
    "import numpy as np\n",
    "import seaborn as sns\n",
    "from sklearn.model_selection import train_test_split\n",
    "from sklearn.tree import DecisionTreeClassifier\n",
    "from sklearn.metrics import accuracy_score\n",
    "from deap import creator, base, tools, algorithms\n",
    "from sklearn.model_selection import cross_val_score\n",
    "from time import time"
   ]
  },
  {
   "cell_type": "markdown",
   "id": "baa3e9dd",
   "metadata": {},
   "source": [
    "#### MODULE 1: Data Pre-processing "
   ]
  },
  {
   "cell_type": "code",
   "execution_count": 4,
   "id": "2bc24e30",
   "metadata": {},
   "outputs": [
    {
     "data": {
      "text/html": [
       "<div>\n",
       "<style scoped>\n",
       "    .dataframe tbody tr th:only-of-type {\n",
       "        vertical-align: middle;\n",
       "    }\n",
       "\n",
       "    .dataframe tbody tr th {\n",
       "        vertical-align: top;\n",
       "    }\n",
       "\n",
       "    .dataframe thead th {\n",
       "        text-align: right;\n",
       "    }\n",
       "</style>\n",
       "<table border=\"1\" class=\"dataframe\">\n",
       "  <thead>\n",
       "    <tr style=\"text-align: right;\">\n",
       "      <th></th>\n",
       "      <th>id</th>\n",
       "      <th>Time</th>\n",
       "      <th>Is_CH</th>\n",
       "      <th>who CH</th>\n",
       "      <th>Dist_To_CH</th>\n",
       "      <th>ADV_S</th>\n",
       "      <th>ADV_R</th>\n",
       "      <th>JOIN_S</th>\n",
       "      <th>JOIN_R</th>\n",
       "      <th>SCH_S</th>\n",
       "      <th>SCH_R</th>\n",
       "      <th>Rank</th>\n",
       "      <th>DATA_S</th>\n",
       "      <th>DATA_R</th>\n",
       "      <th>Data_Sent_To_BS</th>\n",
       "      <th>dist_CH_To_BS</th>\n",
       "      <th>send_code</th>\n",
       "      <th>Expaned Energy</th>\n",
       "      <th>Attack type</th>\n",
       "    </tr>\n",
       "  </thead>\n",
       "  <tbody>\n",
       "    <tr>\n",
       "      <th>0</th>\n",
       "      <td>101000</td>\n",
       "      <td>50</td>\n",
       "      <td>1</td>\n",
       "      <td>101000</td>\n",
       "      <td>0.00000</td>\n",
       "      <td>1</td>\n",
       "      <td>0</td>\n",
       "      <td>0</td>\n",
       "      <td>25</td>\n",
       "      <td>1</td>\n",
       "      <td>0</td>\n",
       "      <td>0</td>\n",
       "      <td>0</td>\n",
       "      <td>1200</td>\n",
       "      <td>48</td>\n",
       "      <td>130.08535</td>\n",
       "      <td>0</td>\n",
       "      <td>2.46940</td>\n",
       "      <td>Normal</td>\n",
       "    </tr>\n",
       "    <tr>\n",
       "      <th>1</th>\n",
       "      <td>101001</td>\n",
       "      <td>50</td>\n",
       "      <td>0</td>\n",
       "      <td>101044</td>\n",
       "      <td>75.32345</td>\n",
       "      <td>0</td>\n",
       "      <td>4</td>\n",
       "      <td>1</td>\n",
       "      <td>0</td>\n",
       "      <td>0</td>\n",
       "      <td>1</td>\n",
       "      <td>2</td>\n",
       "      <td>38</td>\n",
       "      <td>0</td>\n",
       "      <td>0</td>\n",
       "      <td>0.00000</td>\n",
       "      <td>4</td>\n",
       "      <td>0.06957</td>\n",
       "      <td>Normal</td>\n",
       "    </tr>\n",
       "    <tr>\n",
       "      <th>2</th>\n",
       "      <td>101002</td>\n",
       "      <td>50</td>\n",
       "      <td>0</td>\n",
       "      <td>101010</td>\n",
       "      <td>46.95453</td>\n",
       "      <td>0</td>\n",
       "      <td>4</td>\n",
       "      <td>1</td>\n",
       "      <td>0</td>\n",
       "      <td>0</td>\n",
       "      <td>1</td>\n",
       "      <td>19</td>\n",
       "      <td>41</td>\n",
       "      <td>0</td>\n",
       "      <td>0</td>\n",
       "      <td>0.00000</td>\n",
       "      <td>3</td>\n",
       "      <td>0.06898</td>\n",
       "      <td>Normal</td>\n",
       "    </tr>\n",
       "    <tr>\n",
       "      <th>3</th>\n",
       "      <td>101003</td>\n",
       "      <td>50</td>\n",
       "      <td>0</td>\n",
       "      <td>101044</td>\n",
       "      <td>64.85231</td>\n",
       "      <td>0</td>\n",
       "      <td>4</td>\n",
       "      <td>1</td>\n",
       "      <td>0</td>\n",
       "      <td>0</td>\n",
       "      <td>1</td>\n",
       "      <td>16</td>\n",
       "      <td>38</td>\n",
       "      <td>0</td>\n",
       "      <td>0</td>\n",
       "      <td>0.00000</td>\n",
       "      <td>4</td>\n",
       "      <td>0.06673</td>\n",
       "      <td>Normal</td>\n",
       "    </tr>\n",
       "    <tr>\n",
       "      <th>4</th>\n",
       "      <td>101004</td>\n",
       "      <td>50</td>\n",
       "      <td>0</td>\n",
       "      <td>101010</td>\n",
       "      <td>4.83341</td>\n",
       "      <td>0</td>\n",
       "      <td>4</td>\n",
       "      <td>1</td>\n",
       "      <td>0</td>\n",
       "      <td>0</td>\n",
       "      <td>1</td>\n",
       "      <td>25</td>\n",
       "      <td>41</td>\n",
       "      <td>0</td>\n",
       "      <td>0</td>\n",
       "      <td>0.00000</td>\n",
       "      <td>3</td>\n",
       "      <td>0.06534</td>\n",
       "      <td>Normal</td>\n",
       "    </tr>\n",
       "    <tr>\n",
       "      <th>...</th>\n",
       "      <td>...</td>\n",
       "      <td>...</td>\n",
       "      <td>...</td>\n",
       "      <td>...</td>\n",
       "      <td>...</td>\n",
       "      <td>...</td>\n",
       "      <td>...</td>\n",
       "      <td>...</td>\n",
       "      <td>...</td>\n",
       "      <td>...</td>\n",
       "      <td>...</td>\n",
       "      <td>...</td>\n",
       "      <td>...</td>\n",
       "      <td>...</td>\n",
       "      <td>...</td>\n",
       "      <td>...</td>\n",
       "      <td>...</td>\n",
       "      <td>...</td>\n",
       "      <td>...</td>\n",
       "    </tr>\n",
       "    <tr>\n",
       "      <th>374656</th>\n",
       "      <td>201096</td>\n",
       "      <td>1003</td>\n",
       "      <td>0</td>\n",
       "      <td>201051</td>\n",
       "      <td>6.98337</td>\n",
       "      <td>0</td>\n",
       "      <td>5</td>\n",
       "      <td>1</td>\n",
       "      <td>0</td>\n",
       "      <td>0</td>\n",
       "      <td>1</td>\n",
       "      <td>7</td>\n",
       "      <td>96</td>\n",
       "      <td>0</td>\n",
       "      <td>67</td>\n",
       "      <td>170.14779</td>\n",
       "      <td>3</td>\n",
       "      <td>0.15974</td>\n",
       "      <td>Normal</td>\n",
       "    </tr>\n",
       "    <tr>\n",
       "      <th>374657</th>\n",
       "      <td>201097</td>\n",
       "      <td>1003</td>\n",
       "      <td>0</td>\n",
       "      <td>201037</td>\n",
       "      <td>29.32867</td>\n",
       "      <td>0</td>\n",
       "      <td>5</td>\n",
       "      <td>1</td>\n",
       "      <td>0</td>\n",
       "      <td>0</td>\n",
       "      <td>1</td>\n",
       "      <td>31</td>\n",
       "      <td>39</td>\n",
       "      <td>0</td>\n",
       "      <td>24</td>\n",
       "      <td>82.21043</td>\n",
       "      <td>2</td>\n",
       "      <td>0.06877</td>\n",
       "      <td>Normal</td>\n",
       "    </tr>\n",
       "    <tr>\n",
       "      <th>374658</th>\n",
       "      <td>201098</td>\n",
       "      <td>1003</td>\n",
       "      <td>0</td>\n",
       "      <td>201095</td>\n",
       "      <td>18.51963</td>\n",
       "      <td>0</td>\n",
       "      <td>5</td>\n",
       "      <td>1</td>\n",
       "      <td>0</td>\n",
       "      <td>0</td>\n",
       "      <td>1</td>\n",
       "      <td>17</td>\n",
       "      <td>55</td>\n",
       "      <td>0</td>\n",
       "      <td>31</td>\n",
       "      <td>139.26438</td>\n",
       "      <td>1</td>\n",
       "      <td>0.09437</td>\n",
       "      <td>Normal</td>\n",
       "    </tr>\n",
       "    <tr>\n",
       "      <th>374659</th>\n",
       "      <td>201099</td>\n",
       "      <td>1003</td>\n",
       "      <td>0</td>\n",
       "      <td>201051</td>\n",
       "      <td>8.55001</td>\n",
       "      <td>0</td>\n",
       "      <td>5</td>\n",
       "      <td>1</td>\n",
       "      <td>0</td>\n",
       "      <td>0</td>\n",
       "      <td>1</td>\n",
       "      <td>3</td>\n",
       "      <td>96</td>\n",
       "      <td>0</td>\n",
       "      <td>65</td>\n",
       "      <td>158.27492</td>\n",
       "      <td>3</td>\n",
       "      <td>0.16047</td>\n",
       "      <td>Normal</td>\n",
       "    </tr>\n",
       "    <tr>\n",
       "      <th>374660</th>\n",
       "      <td>202041</td>\n",
       "      <td>1025</td>\n",
       "      <td>0</td>\n",
       "      <td>202100</td>\n",
       "      <td>0.00000</td>\n",
       "      <td>0</td>\n",
       "      <td>5</td>\n",
       "      <td>0</td>\n",
       "      <td>0</td>\n",
       "      <td>0</td>\n",
       "      <td>0</td>\n",
       "      <td>4</td>\n",
       "      <td>7</td>\n",
       "      <td>689</td>\n",
       "      <td>7</td>\n",
       "      <td>115.00407</td>\n",
       "      <td>0</td>\n",
       "      <td>1.01325</td>\n",
       "      <td>Normal</td>\n",
       "    </tr>\n",
       "  </tbody>\n",
       "</table>\n",
       "<p>374661 rows × 19 columns</p>\n",
       "</div>"
      ],
      "text/plain": [
       "            id  Time  Is_CH  who CH  Dist_To_CH  ADV_S  ADV_R  JOIN_S  JOIN_R  \\\n",
       "0       101000    50      1  101000     0.00000      1      0       0      25   \n",
       "1       101001    50      0  101044    75.32345      0      4       1       0   \n",
       "2       101002    50      0  101010    46.95453      0      4       1       0   \n",
       "3       101003    50      0  101044    64.85231      0      4       1       0   \n",
       "4       101004    50      0  101010     4.83341      0      4       1       0   \n",
       "...        ...   ...    ...     ...         ...    ...    ...     ...     ...   \n",
       "374656  201096  1003      0  201051     6.98337      0      5       1       0   \n",
       "374657  201097  1003      0  201037    29.32867      0      5       1       0   \n",
       "374658  201098  1003      0  201095    18.51963      0      5       1       0   \n",
       "374659  201099  1003      0  201051     8.55001      0      5       1       0   \n",
       "374660  202041  1025      0  202100     0.00000      0      5       0       0   \n",
       "\n",
       "        SCH_S  SCH_R  Rank  DATA_S  DATA_R  Data_Sent_To_BS  dist_CH_To_BS  \\\n",
       "0           1      0     0       0    1200               48      130.08535   \n",
       "1           0      1     2      38       0                0        0.00000   \n",
       "2           0      1    19      41       0                0        0.00000   \n",
       "3           0      1    16      38       0                0        0.00000   \n",
       "4           0      1    25      41       0                0        0.00000   \n",
       "...       ...    ...   ...     ...     ...              ...            ...   \n",
       "374656      0      1     7      96       0               67      170.14779   \n",
       "374657      0      1    31      39       0               24       82.21043   \n",
       "374658      0      1    17      55       0               31      139.26438   \n",
       "374659      0      1     3      96       0               65      158.27492   \n",
       "374660      0      0     4       7     689                7      115.00407   \n",
       "\n",
       "        send_code  Expaned Energy Attack type  \n",
       "0               0         2.46940      Normal  \n",
       "1               4         0.06957      Normal  \n",
       "2               3         0.06898      Normal  \n",
       "3               4         0.06673      Normal  \n",
       "4               3         0.06534      Normal  \n",
       "...           ...             ...         ...  \n",
       "374656          3         0.15974      Normal  \n",
       "374657          2         0.06877      Normal  \n",
       "374658          1         0.09437      Normal  \n",
       "374659          3         0.16047      Normal  \n",
       "374660          0         1.01325      Normal  \n",
       "\n",
       "[374661 rows x 19 columns]"
      ]
     },
     "execution_count": 4,
     "metadata": {},
     "output_type": "execute_result"
    }
   ],
   "source": [
    "# Loading the dataset and viewing it\n",
    "wsn_ds = pd.read_csv('WSN-DS.csv')\n",
    "wsn_ds"
   ]
  },
  {
   "cell_type": "code",
   "execution_count": 5,
   "id": "f6fd099a",
   "metadata": {},
   "outputs": [
    {
     "name": "stdout",
     "output_type": "stream",
     "text": [
      "<class 'pandas.core.frame.DataFrame'>\n",
      "RangeIndex: 374661 entries, 0 to 374660\n",
      "Data columns (total 19 columns):\n",
      " #   Column           Non-Null Count   Dtype  \n",
      "---  ------           --------------   -----  \n",
      " 0   id               374661 non-null  int64  \n",
      " 1   Time             374661 non-null  int64  \n",
      " 2   Is_CH            374661 non-null  int64  \n",
      " 3   who CH           374661 non-null  int64  \n",
      " 4   Dist_To_CH       374661 non-null  float64\n",
      " 5   ADV_S            374661 non-null  int64  \n",
      " 6   ADV_R            374661 non-null  int64  \n",
      " 7   JOIN_S           374661 non-null  int64  \n",
      " 8   JOIN_R           374661 non-null  int64  \n",
      " 9   SCH_S            374661 non-null  int64  \n",
      " 10  SCH_R            374661 non-null  int64  \n",
      " 11  Rank             374661 non-null  int64  \n",
      " 12  DATA_S           374661 non-null  int64  \n",
      " 13  DATA_R           374661 non-null  int64  \n",
      " 14  Data_Sent_To_BS  374661 non-null  int64  \n",
      " 15  dist_CH_To_BS    374661 non-null  float64\n",
      " 16  send_code        374661 non-null  int64  \n",
      " 17  Expaned Energy   374661 non-null  float64\n",
      " 18  Attack type      374661 non-null  object \n",
      "dtypes: float64(3), int64(15), object(1)\n",
      "memory usage: 54.3+ MB\n"
     ]
    }
   ],
   "source": [
    "# Basic information of the dataset\n",
    "wsn_ds.info()"
   ]
  },
  {
   "cell_type": "code",
   "execution_count": 6,
   "id": "df90e3da",
   "metadata": {},
   "outputs": [
    {
     "data": {
      "text/html": [
       "<div>\n",
       "<style scoped>\n",
       "    .dataframe tbody tr th:only-of-type {\n",
       "        vertical-align: middle;\n",
       "    }\n",
       "\n",
       "    .dataframe tbody tr th {\n",
       "        vertical-align: top;\n",
       "    }\n",
       "\n",
       "    .dataframe thead th {\n",
       "        text-align: right;\n",
       "    }\n",
       "</style>\n",
       "<table border=\"1\" class=\"dataframe\">\n",
       "  <thead>\n",
       "    <tr style=\"text-align: right;\">\n",
       "      <th></th>\n",
       "      <th>id</th>\n",
       "      <th>Time</th>\n",
       "      <th>Is_CH</th>\n",
       "      <th>who CH</th>\n",
       "      <th>Dist_To_CH</th>\n",
       "      <th>ADV_S</th>\n",
       "      <th>ADV_R</th>\n",
       "      <th>JOIN_S</th>\n",
       "      <th>JOIN_R</th>\n",
       "      <th>SCH_S</th>\n",
       "      <th>SCH_R</th>\n",
       "      <th>Rank</th>\n",
       "      <th>DATA_S</th>\n",
       "      <th>DATA_R</th>\n",
       "      <th>Data_Sent_To_BS</th>\n",
       "      <th>dist_CH_To_BS</th>\n",
       "      <th>send_code</th>\n",
       "      <th>Expaned Energy</th>\n",
       "    </tr>\n",
       "  </thead>\n",
       "  <tbody>\n",
       "    <tr>\n",
       "      <th>count</th>\n",
       "      <td>3.746610e+05</td>\n",
       "      <td>374661.000000</td>\n",
       "      <td>374661.000000</td>\n",
       "      <td>3.746610e+05</td>\n",
       "      <td>374661.000000</td>\n",
       "      <td>374661.000000</td>\n",
       "      <td>374661.000000</td>\n",
       "      <td>374661.000000</td>\n",
       "      <td>374661.000000</td>\n",
       "      <td>374661.000000</td>\n",
       "      <td>374661.000000</td>\n",
       "      <td>374661.000000</td>\n",
       "      <td>374661.000000</td>\n",
       "      <td>374661.000000</td>\n",
       "      <td>374661.000000</td>\n",
       "      <td>374661.000000</td>\n",
       "      <td>374661.000000</td>\n",
       "      <td>374661.000000</td>\n",
       "    </tr>\n",
       "    <tr>\n",
       "      <th>mean</th>\n",
       "      <td>2.749693e+05</td>\n",
       "      <td>1064.748712</td>\n",
       "      <td>0.115766</td>\n",
       "      <td>2.749804e+05</td>\n",
       "      <td>22.599380</td>\n",
       "      <td>0.267698</td>\n",
       "      <td>6.940562</td>\n",
       "      <td>0.779905</td>\n",
       "      <td>0.737493</td>\n",
       "      <td>0.288984</td>\n",
       "      <td>0.747452</td>\n",
       "      <td>9.687104</td>\n",
       "      <td>44.857925</td>\n",
       "      <td>73.890045</td>\n",
       "      <td>4.569448</td>\n",
       "      <td>22.562735</td>\n",
       "      <td>2.497957</td>\n",
       "      <td>0.305661</td>\n",
       "    </tr>\n",
       "    <tr>\n",
       "      <th>std</th>\n",
       "      <td>3.898986e+05</td>\n",
       "      <td>899.646164</td>\n",
       "      <td>0.319945</td>\n",
       "      <td>3.899112e+05</td>\n",
       "      <td>21.955794</td>\n",
       "      <td>2.061148</td>\n",
       "      <td>7.044319</td>\n",
       "      <td>0.414311</td>\n",
       "      <td>4.691498</td>\n",
       "      <td>2.754746</td>\n",
       "      <td>0.434475</td>\n",
       "      <td>14.681901</td>\n",
       "      <td>42.574464</td>\n",
       "      <td>230.246335</td>\n",
       "      <td>19.679155</td>\n",
       "      <td>50.261604</td>\n",
       "      <td>2.407337</td>\n",
       "      <td>0.669462</td>\n",
       "    </tr>\n",
       "    <tr>\n",
       "      <th>min</th>\n",
       "      <td>1.010000e+05</td>\n",
       "      <td>50.000000</td>\n",
       "      <td>0.000000</td>\n",
       "      <td>1.010000e+05</td>\n",
       "      <td>0.000000</td>\n",
       "      <td>0.000000</td>\n",
       "      <td>0.000000</td>\n",
       "      <td>0.000000</td>\n",
       "      <td>0.000000</td>\n",
       "      <td>0.000000</td>\n",
       "      <td>0.000000</td>\n",
       "      <td>0.000000</td>\n",
       "      <td>0.000000</td>\n",
       "      <td>0.000000</td>\n",
       "      <td>0.000000</td>\n",
       "      <td>0.000000</td>\n",
       "      <td>0.000000</td>\n",
       "      <td>0.000000</td>\n",
       "    </tr>\n",
       "    <tr>\n",
       "      <th>25%</th>\n",
       "      <td>1.070930e+05</td>\n",
       "      <td>353.000000</td>\n",
       "      <td>0.000000</td>\n",
       "      <td>1.070960e+05</td>\n",
       "      <td>4.735440</td>\n",
       "      <td>0.000000</td>\n",
       "      <td>3.000000</td>\n",
       "      <td>1.000000</td>\n",
       "      <td>0.000000</td>\n",
       "      <td>0.000000</td>\n",
       "      <td>0.000000</td>\n",
       "      <td>1.000000</td>\n",
       "      <td>13.000000</td>\n",
       "      <td>0.000000</td>\n",
       "      <td>0.000000</td>\n",
       "      <td>0.000000</td>\n",
       "      <td>1.000000</td>\n",
       "      <td>0.056150</td>\n",
       "    </tr>\n",
       "    <tr>\n",
       "      <th>50%</th>\n",
       "      <td>1.160710e+05</td>\n",
       "      <td>803.000000</td>\n",
       "      <td>0.000000</td>\n",
       "      <td>1.160720e+05</td>\n",
       "      <td>18.372610</td>\n",
       "      <td>0.000000</td>\n",
       "      <td>5.000000</td>\n",
       "      <td>1.000000</td>\n",
       "      <td>0.000000</td>\n",
       "      <td>0.000000</td>\n",
       "      <td>1.000000</td>\n",
       "      <td>3.000000</td>\n",
       "      <td>35.000000</td>\n",
       "      <td>0.000000</td>\n",
       "      <td>0.000000</td>\n",
       "      <td>0.000000</td>\n",
       "      <td>2.000000</td>\n",
       "      <td>0.097970</td>\n",
       "    </tr>\n",
       "    <tr>\n",
       "      <th>75%</th>\n",
       "      <td>2.150720e+05</td>\n",
       "      <td>1503.000000</td>\n",
       "      <td>0.000000</td>\n",
       "      <td>2.150730e+05</td>\n",
       "      <td>33.776000</td>\n",
       "      <td>0.000000</td>\n",
       "      <td>7.000000</td>\n",
       "      <td>1.000000</td>\n",
       "      <td>0.000000</td>\n",
       "      <td>0.000000</td>\n",
       "      <td>1.000000</td>\n",
       "      <td>13.000000</td>\n",
       "      <td>62.000000</td>\n",
       "      <td>0.000000</td>\n",
       "      <td>0.000000</td>\n",
       "      <td>0.000000</td>\n",
       "      <td>4.000000</td>\n",
       "      <td>0.217760</td>\n",
       "    </tr>\n",
       "    <tr>\n",
       "      <th>max</th>\n",
       "      <td>3.402096e+06</td>\n",
       "      <td>3600.000000</td>\n",
       "      <td>1.000000</td>\n",
       "      <td>3.402100e+06</td>\n",
       "      <td>214.274620</td>\n",
       "      <td>97.000000</td>\n",
       "      <td>117.000000</td>\n",
       "      <td>1.000000</td>\n",
       "      <td>124.000000</td>\n",
       "      <td>99.000000</td>\n",
       "      <td>1.000000</td>\n",
       "      <td>99.000000</td>\n",
       "      <td>241.000000</td>\n",
       "      <td>1496.000000</td>\n",
       "      <td>241.000000</td>\n",
       "      <td>201.934940</td>\n",
       "      <td>15.000000</td>\n",
       "      <td>45.093940</td>\n",
       "    </tr>\n",
       "  </tbody>\n",
       "</table>\n",
       "</div>"
      ],
      "text/plain": [
       "                 id           Time          Is_CH        who CH  \\\n",
       "count  3.746610e+05  374661.000000  374661.000000  3.746610e+05   \n",
       "mean   2.749693e+05    1064.748712       0.115766  2.749804e+05   \n",
       "std    3.898986e+05     899.646164       0.319945  3.899112e+05   \n",
       "min    1.010000e+05      50.000000       0.000000  1.010000e+05   \n",
       "25%    1.070930e+05     353.000000       0.000000  1.070960e+05   \n",
       "50%    1.160710e+05     803.000000       0.000000  1.160720e+05   \n",
       "75%    2.150720e+05    1503.000000       0.000000  2.150730e+05   \n",
       "max    3.402096e+06    3600.000000       1.000000  3.402100e+06   \n",
       "\n",
       "          Dist_To_CH          ADV_S          ADV_R         JOIN_S  \\\n",
       "count  374661.000000  374661.000000  374661.000000  374661.000000   \n",
       "mean       22.599380       0.267698       6.940562       0.779905   \n",
       "std        21.955794       2.061148       7.044319       0.414311   \n",
       "min         0.000000       0.000000       0.000000       0.000000   \n",
       "25%         4.735440       0.000000       3.000000       1.000000   \n",
       "50%        18.372610       0.000000       5.000000       1.000000   \n",
       "75%        33.776000       0.000000       7.000000       1.000000   \n",
       "max       214.274620      97.000000     117.000000       1.000000   \n",
       "\n",
       "              JOIN_R          SCH_S          SCH_R           Rank  \\\n",
       "count  374661.000000  374661.000000  374661.000000  374661.000000   \n",
       "mean        0.737493       0.288984       0.747452       9.687104   \n",
       "std         4.691498       2.754746       0.434475      14.681901   \n",
       "min         0.000000       0.000000       0.000000       0.000000   \n",
       "25%         0.000000       0.000000       0.000000       1.000000   \n",
       "50%         0.000000       0.000000       1.000000       3.000000   \n",
       "75%         0.000000       0.000000       1.000000      13.000000   \n",
       "max       124.000000      99.000000       1.000000      99.000000   \n",
       "\n",
       "              DATA_S         DATA_R  Data_Sent_To_BS  dist_CH_To_BS  \\\n",
       "count  374661.000000  374661.000000    374661.000000  374661.000000   \n",
       "mean       44.857925      73.890045         4.569448      22.562735   \n",
       "std        42.574464     230.246335        19.679155      50.261604   \n",
       "min         0.000000       0.000000         0.000000       0.000000   \n",
       "25%        13.000000       0.000000         0.000000       0.000000   \n",
       "50%        35.000000       0.000000         0.000000       0.000000   \n",
       "75%        62.000000       0.000000         0.000000       0.000000   \n",
       "max       241.000000    1496.000000       241.000000     201.934940   \n",
       "\n",
       "           send_code  Expaned Energy  \n",
       "count  374661.000000   374661.000000  \n",
       "mean        2.497957        0.305661  \n",
       "std         2.407337        0.669462  \n",
       "min         0.000000        0.000000  \n",
       "25%         1.000000        0.056150  \n",
       "50%         2.000000        0.097970  \n",
       "75%         4.000000        0.217760  \n",
       "max        15.000000       45.093940  "
      ]
     },
     "execution_count": 6,
     "metadata": {},
     "output_type": "execute_result"
    }
   ],
   "source": [
    "# describe() function gives the basic numerical infomation about the data for each numeric feature..\n",
    "wsn_ds.describe()"
   ]
  },
  {
   "cell_type": "code",
   "execution_count": 7,
   "id": "0bd1b5ab",
   "metadata": {},
   "outputs": [
    {
     "data": {
      "text/plain": [
       "Normal       340066\n",
       "Grayhole      14596\n",
       "Blackhole     10049\n",
       "TDMA           6638\n",
       "Flooding       3312\n",
       "Name: Attack type, dtype: int64"
      ]
     },
     "execution_count": 7,
     "metadata": {},
     "output_type": "execute_result"
    }
   ],
   "source": [
    "# Data points count value for each class labels..\n",
    "wsn_ds['Attack type'].value_counts()"
   ]
  },
  {
   "cell_type": "code",
   "execution_count": 8,
   "id": "b856afc7",
   "metadata": {},
   "outputs": [
    {
     "data": {
      "image/png": "[encoded data removed]",
      "text/plain": [
       "<Figure size 1500x2100 with 1 Axes>"
      ]
     },
     "metadata": {},
     "output_type": "display_data"
    }
   ],
   "source": [
    "# Visualizing the WSN-DS Attack type distrubution through a donut chart\n",
    "\n",
    "plt.rcParams['figure.dpi'] = 300\n",
    "plt.rcParams['savefig.dpi'] = 300\n",
    "# Define data and labels\n",
    "data = [340066, 14596, 10049, 6638, 3312]\n",
    "labels = ['Normal', 'Grayhole', 'Blackhole', 'TDMA', 'Flooding']\n",
    "\n",
    "# Calculate percentages\n",
    "total = sum(data)\n",
    "percentages = [(d / total) * 100 for d in data]\n",
    "\n",
    "# Set up the figure\n",
    "fig, ax = plt.subplots(figsize=(5, 7))\n",
    "ax.axis('equal')\n",
    "\n",
    "# Define the colors\n",
    "colors = ['#4daf4a', '#377eb8', '#ff7f00', '#984ea3', '#e41a1c']\n",
    "\n",
    "# Define the wedge properties\n",
    "wedgeprops = {'width': 0.5, 'edgecolor': 'w'}\n",
    "\n",
    "# Create the pie chart\n",
    "wedges, _ = ax.pie(data, wedgeprops=wedgeprops, startangle=-40, colors=colors)\n",
    "\n",
    "# Set up the annotation parameters\n",
    "annotation_params = {'arrowprops': {'arrowstyle': '-', 'lw': 1, 'alpha': 0.7, 'color': 'black'},\n",
    "                     'fontsize': 9, 'fontweight': 'bold', 'color': 'k'}\n",
    "\n",
    "# Add the labels with annotations\n",
    "for i, (wedge, label, percentage) in enumerate(zip(wedges, labels, percentages)):\n",
    "    angle = (wedge.theta2 - wedge.theta1) / 2. + wedge.theta1\n",
    "    x = np.cos(np.deg2rad(angle))\n",
    "    y = np.sin(np.deg2rad(angle))\n",
    "    horizontalalignment = {-1: 'right', 1: 'left'}[int(np.sign(x))]\n",
    "    connectionstyle = f'angle,angleA=0,angleB={angle:.0f}'\n",
    "    annotation_params['arrowprops'].update({'connectionstyle': connectionstyle})\n",
    "    ax.annotate(f'{label} ({percentage:.1f}%)', xy=(x, y), xytext=(1.3*np.sign(x), 1.3*y), \n",
    "                horizontalalignment=horizontalalignment, **annotation_params)\n",
    "    \n",
    "# Add a legend\n",
    "legend_labels = [f\"{label}: {data_value}\" for label, data_value in zip(labels, data)]\n",
    "ax.legend(wedges, legend_labels, loc='best', shadow=True, fancybox=True)\n",
    "\n",
    "# Show the plot\n",
    "plt.show()\n"
   ]
  },
  {
   "cell_type": "code",
   "execution_count": 9,
   "id": "7b01dcba",
   "metadata": {},
   "outputs": [
    {
     "data": {
      "image/png": "[encoded data removed]",
      "text/plain": [
       "<Figure size 1920x1440 with 1 Axes>"
      ]
     },
     "metadata": {},
     "output_type": "display_data"
    }
   ],
   "source": [
    "#Visualizing WSN dataset \n",
    "\n",
    "#Visualizing the dataset features to find pattern to solve our task\n",
    "plt.scatter(wsn_ds['DATA_S'], wsn_ds['Rank'])\n",
    "plt.show()"
   ]
  },
  {
   "cell_type": "code",
   "execution_count": 10,
   "id": "8f35b0c3",
   "metadata": {},
   "outputs": [
    {
     "data": {
      "image/png": "[encoded data removed]",
      "text/plain": [
       "<Figure size 1230.37x900 with 1 Axes>"
      ]
     },
     "metadata": {},
     "output_type": "display_data"
    }
   ],
   "source": [
    "# Using Seaborn library to visualize 2 features based on target variable.\n",
    "\n",
    "sns.set_style('whitegrid')\n",
    "sns.FacetGrid(wsn_ds, hue = 'Attack type')\\\n",
    "    .map(plt.scatter, 'DATA_S', 'Rank') \\\n",
    "    .add_legend()\n",
    "\n",
    "plt.show()"
   ]
  },
  {
   "cell_type": "code",
   "execution_count": 11,
   "id": "d050fd69",
   "metadata": {},
   "outputs": [],
   "source": [
    "# Dropping the column named 'id' as it does not play any role in attack classification\n",
    "wsn_ds = wsn_ds.drop('id', axis=1)"
   ]
  },
  {
   "cell_type": "code",
   "execution_count": 12,
   "id": "4d9d6c54",
   "metadata": {},
   "outputs": [
    {
     "data": {
      "text/plain": [
       "(374661, 18)"
      ]
     },
     "execution_count": 12,
     "metadata": {},
     "output_type": "execute_result"
    }
   ],
   "source": [
    "# Shape of the updated dataset\n",
    "wsn_ds.shape"
   ]
  },
  {
   "cell_type": "code",
   "execution_count": 13,
   "id": "578318c5",
   "metadata": {},
   "outputs": [],
   "source": [
    "# Variables are categorized into input/independent variables and a target/output variable.\n",
    "\n",
    "# Input variables (X)\n",
    "X = wsn_ds[['Time', 'Is_CH', 'who CH', 'Dist_To_CH', 'ADV_S', 'ADV_R', 'JOIN_S', 'JOIN_R', 'SCH_S', 'SCH_R', 'Rank','send_code', \n",
    "           'DATA_S','DATA_R', 'Data_Sent_To_BS', 'dist_CH_To_BS', 'Expaned Energy']]\n",
    "\n",
    "# Target variable (y)\n",
    "y = wsn_ds['Attack type']"
   ]
  },
  {
   "cell_type": "code",
   "execution_count": 14,
   "id": "b4dc5992",
   "metadata": {},
   "outputs": [
    {
     "name": "stdout",
     "output_type": "stream",
     "text": [
      "Index(['Time', 'Is_CH', 'who CH', 'Dist_To_CH', 'ADV_S', 'SCH_S', 'SCH_R',\n",
      "       'send_code', 'DATA_S', 'dist_CH_To_BS'],\n",
      "      dtype='object')\n"
     ]
    }
   ],
   "source": [
    "# Selecting 10 out of 17 features from the WSN-DS using Principal Component Analysis (PCA) and Mutual Information\n",
    "\n",
    "from sklearn.decomposition import PCA\n",
    "from sklearn.feature_selection import SelectKBest, mutual_info_classif\n",
    "\n",
    "# Reduce the dimensionality of the data using PCA\n",
    "pca = PCA(n_components=17)\n",
    "X_pca = pca.fit_transform(X)\n",
    "\n",
    "# Apply mutual information to select the top 10 features\n",
    "k = 10\n",
    "mi = SelectKBest(mutual_info_classif, k=k)\n",
    "X_mi = mi.fit_transform(X_pca, y)\n",
    "\n",
    "# Get the indices of the selected features\n",
    "selected_features_idx = mi.get_support(indices=True)\n",
    "\n",
    "# Print the names of the selected features\n",
    "selected_features_names = X.columns[selected_features_idx]\n",
    "print(selected_features_names)\n"
   ]
  },
  {
   "cell_type": "code",
   "execution_count": 15,
   "id": "bd55ce0c",
   "metadata": {},
   "outputs": [],
   "source": [
    "# Subset of input variables (X_1) obtained as an output from the previous cell\n",
    "\n",
    "X_1 = wsn_ds[['Time', 'Is_CH', 'who CH', 'Dist_To_CH', 'ADV_S', 'SCH_S', 'SCH_R',\n",
    "       'send_code', 'DATA_S', 'dist_CH_To_BS']]\n"
   ]
  },
  {
   "cell_type": "code",
   "execution_count": 16,
   "id": "e7daee20",
   "metadata": {},
   "outputs": [],
   "source": [
    "# Define the number of features to select for dimensionality reduction by Evolutionary Algorithms\n",
    "\n",
    "# To reduce the overhead on WSNs, only 4 features would be considered\n",
    "num_features = 4"
   ]
  },
  {
   "cell_type": "code",
   "execution_count": 17,
   "id": "4cf31041",
   "metadata": {},
   "outputs": [],
   "source": [
    "# Split the dataset into training and test sets\n",
    "\n",
    "# Ratio of dataset split: 70% for training and remaining 30% for testing purposes\n",
    "\n",
    "X_train, X_test, y_train, y_test = train_test_split(X_1, y, test_size=0.3, random_state=0)"
   ]
  },
  {
   "cell_type": "code",
   "execution_count": 18,
   "id": "4984c6a0",
   "metadata": {},
   "outputs": [
    {
     "name": "stdout",
     "output_type": "stream",
     "text": [
      "Attack Type  Training Set  Testing Set\n",
      "     Normal        238119       101947\n",
      "   Grayhole         10141         4455\n",
      "  Blackhole          7025         3024\n",
      "       TDMA          4664         1974\n",
      "   Flooding          2313          999\n",
      "        All        262262       112399\n"
     ]
    }
   ],
   "source": [
    "# Table to show Dataset separated 70% training set and 30% testing sets\n",
    "\n",
    "# Get the value counts of each attack type in the training set\n",
    "train_counts = y_train.value_counts()\n",
    "\n",
    "# Get the value counts of each attack type in the testing set\n",
    "test_counts = y_test.value_counts()\n",
    "\n",
    "# Create a new dataframe to hold the results\n",
    "results = pd.DataFrame({\n",
    "    'Attack Type': train_counts.index,\n",
    "    'Training Set': train_counts.values,\n",
    "    'Testing Set': test_counts.values\n",
    "})\n",
    "\n",
    "# Add a row to the dataframe to show the total number of samples in each set\n",
    "results.loc['Total'] = ['All', len(X_train), len(X_test)]\n",
    "\n",
    "# Print the results dataframe\n",
    "print(results.to_string(index=False))\n",
    "\n"
   ]
  },
  {
   "cell_type": "markdown",
   "id": "31ce7543",
   "metadata": {},
   "source": [
    "### Building the Anomaly Detection Model for Detection of DoS attacks in WSNs"
   ]
  },
  {
   "cell_type": "markdown",
   "id": "485149b2",
   "metadata": {},
   "source": [
    "#### MODULE 2: Dimensionality Reduction Using Evolutionary Algorithms"
   ]
  },
  {
   "cell_type": "code",
   "execution_count": 19,
   "id": "7e52d49d",
   "metadata": {},
   "outputs": [],
   "source": [
    "# 1. GRASSHOPPER OPTIMIZATION ALGORITHM (GOA)\n",
    "\n",
    "# Define fitness function\n",
    "def fitness(X_train, X_test, y_train, y_test, feature_mask):\n",
    "    # Select features based on feature mask\n",
    "    X_train_subset = X_train.iloc[:, feature_mask]\n",
    "    X_test_subset = X_test.iloc[:, feature_mask]\n",
    "\n",
    "    # Train and evaluate model using selected features\n",
    "    model = DecisionTreeClassifier()\n",
    "    model.fit(X_train_subset, y_train)\n",
    "    score = model.score(X_test_subset, y_test)\n",
    "\n",
    "    return score\n",
    "\n",
    "# Define Grasshopper Optimization Algorithm\n",
    "def grasshopper_optimization_algorithm(X_train, X_test, y_train, y_test, num_agents, max_iter, lb, ub):\n",
    "    # Initialize agents' positions randomly\n",
    "    positions = np.random.uniform(low=lb, high=ub, size=(num_agents, X_train.shape[1]))\n",
    "\n",
    "    # Initialize best position and score\n",
    "    best_position = None\n",
    "    best_score = -1\n",
    "\n",
    "    start_time = time()\n",
    "    # Loop over iterations\n",
    "    for iteration in range(max_iter):\n",
    "        # Evaluate fitness of all agents\n",
    "        scores = [fitness(X_train, X_test, y_train, y_test, feature_mask=np.round(position).astype(bool)) for position in positions]\n",
    "\n",
    "        # Update best position and score\n",
    "        best_index = np.argmax(scores)\n",
    "        if scores[best_index] > best_score:\n",
    "            best_position = positions[best_index]\n",
    "            best_score = scores[best_index]\n",
    "\n",
    "        # Update agents' positions using Grasshopper formula\n",
    "        c = 1.0\n",
    "        epsilon = 0.01\n",
    "        alpha = 0.1\n",
    "        r = np.random.uniform(low=0, high=1, size=num_agents)\n",
    "        c_norm = c / np.sqrt(iteration+1)\n",
    "        s = np.zeros((num_agents, X_train.shape[1]))\n",
    "        for i in range(num_agents):\n",
    "            for j in range(num_agents):\n",
    "                if i != j:\n",
    "                    s[i] += (positions[j] - positions[i]) / np.linalg.norm(positions[j] - positions[i])\n",
    "            s[i] = s[i] / (num_agents-1)\n",
    "            xichma = np.sqrt(np.sum(np.power(s[i], 2))) * r[i]\n",
    "            delta_pos = c_norm * s[i] * np.exp(-1 * alpha * xichma) * (np.random.uniform(size=X_train.shape[1]) < (1 / (1 + np.exp(-1 * epsilon * np.abs(s[i])))))\n",
    "            positions[i] += delta_pos\n",
    "\n",
    "    # Select top 4 features\n",
    "    feature_mask = np.round(best_position).astype(bool)\n",
    "    top_features = X_train.columns[feature_mask].tolist()[:4]\n",
    "    top_features_indices_GOA = np.where(feature_mask)[0][:4]\n",
    "    \n",
    "    end_time = time()\n",
    "    print(f\"Computation Time for GOA: {end_time - start_time:.2f}s\")\n",
    "    \n",
    "    return top_features, top_features_indices_GOA\n"
   ]
  },
  {
   "cell_type": "code",
   "execution_count": 20,
   "id": "bf1390ee",
   "metadata": {},
   "outputs": [
    {
     "name": "stdout",
     "output_type": "stream",
     "text": [
      "Computation Time for GOA: 1469.25s\n",
      "Selected Features (names) by GOA: ['who CH', 'Dist_To_CH', 'ADV_S', 'dist_CH_To_BS']\n",
      "Selected Features (indices) by GOA: [2 3 4 9]\n"
     ]
    }
   ],
   "source": [
    "num_agents = 10\n",
    "max_iter = 100\n",
    "lb = 0\n",
    "ub = 1\n",
    "\n",
    "top_features, top_features_indices_GOA = grasshopper_optimization_algorithm(X_train, X_test, y_train, y_test, num_agents, max_iter, lb, ub)\n",
    "print(\"Selected Features (names) by GOA:\", top_features)\n",
    "print(\"Selected Features (indices) by GOA:\", top_features_indices_GOA)"
   ]
  },
  {
   "cell_type": "code",
   "execution_count": 21,
   "id": "09fab301",
   "metadata": {},
   "outputs": [
    {
     "name": "stdout",
     "output_type": "stream",
     "text": [
      "gen\tnevals\tavg     \tmin     \tmax     \n",
      "0  \t50    \t0.933576\t0.933576\t0.933576\n",
      "1  \t32    \t0.933576\t0.933576\t0.933576\n",
      "2  \t24    \t0.933576\t0.933576\t0.933576\n",
      "3  \t31    \t0.933576\t0.933576\t0.933576\n",
      "4  \t27    \t0.933576\t0.933576\t0.933576\n",
      "5  \t30    \t0.933576\t0.933576\t0.933576\n",
      "6  \t34    \t0.933576\t0.933576\t0.933576\n",
      "7  \t34    \t0.933576\t0.933576\t0.933576\n",
      "8  \t28    \t0.933341\t0.921814\t0.933576\n",
      "9  \t33    \t0.933576\t0.933576\t0.933576\n",
      "10 \t26    \t0.933576\t0.933576\t0.933576\n",
      "11 \t24    \t0.933576\t0.933576\t0.933576\n",
      "12 \t31    \t0.933576\t0.933576\t0.933576\n",
      "13 \t30    \t0.933576\t0.933576\t0.933576\n",
      "14 \t36    \t0.933576\t0.933576\t0.933576\n",
      "15 \t31    \t0.933576\t0.933576\t0.933576\n",
      "16 \t31    \t0.933576\t0.933576\t0.933576\n",
      "17 \t23    \t0.933576\t0.933576\t0.933576\n",
      "18 \t25    \t0.933576\t0.933576\t0.933576\n",
      "19 \t31    \t0.933576\t0.933576\t0.933576\n",
      "20 \t31    \t0.933576\t0.933576\t0.933576\n",
      "21 \t29    \t0.933576\t0.933576\t0.933576\n",
      "22 \t27    \t0.933576\t0.933576\t0.933576\n",
      "23 \t28    \t0.933576\t0.933576\t0.933576\n",
      "24 \t25    \t0.933576\t0.933576\t0.933576\n",
      "25 \t31    \t0.933576\t0.933576\t0.933576\n",
      "26 \t31    \t0.933576\t0.933576\t0.933576\n",
      "27 \t23    \t0.933576\t0.933576\t0.933576\n",
      "28 \t36    \t0.933576\t0.933576\t0.933576\n",
      "29 \t27    \t0.933576\t0.933576\t0.933576\n",
      "30 \t38    \t0.933576\t0.933576\t0.933576\n",
      "31 \t32    \t0.933576\t0.933576\t0.933576\n",
      "32 \t31    \t0.933576\t0.933576\t0.933576\n",
      "33 \t24    \t0.933576\t0.933576\t0.933576\n",
      "34 \t33    \t0.933576\t0.933576\t0.933576\n",
      "35 \t33    \t0.933576\t0.933576\t0.933576\n",
      "36 \t31    \t0.933576\t0.933576\t0.933576\n",
      "37 \t28    \t0.933576\t0.933576\t0.933576\n",
      "38 \t36    \t0.933576\t0.933576\t0.933576\n",
      "39 \t35    \t0.933576\t0.933576\t0.933576\n",
      "40 \t26    \t0.933576\t0.933576\t0.933576\n",
      "41 \t29    \t0.933576\t0.933576\t0.933576\n",
      "42 \t23    \t0.933576\t0.933576\t0.933576\n",
      "43 \t32    \t0.933576\t0.933576\t0.933576\n",
      "44 \t36    \t0.933576\t0.933576\t0.933576\n",
      "45 \t34    \t0.933576\t0.933576\t0.933576\n",
      "46 \t27    \t0.933576\t0.933576\t0.933576\n",
      "47 \t34    \t0.933576\t0.933576\t0.933576\n",
      "48 \t28    \t0.933576\t0.933576\t0.933576\n",
      "49 \t29    \t0.933576\t0.933576\t0.933576\n",
      "50 \t24    \t0.933576\t0.933576\t0.933576\n",
      "Computation Time for GA: 2322.65s\n",
      "Selected Features indices: [0 1 3 4]\n",
      "Selected Features by GA: Index(['Time', 'Is_CH', 'Dist_To_CH', 'ADV_S'], dtype='object')\n"
     ]
    }
   ],
   "source": [
    "# 2. GENETIC ALGORITHM (GA)\n",
    "\n",
    "import random\n",
    "from sklearn.metrics import accuracy_score\n",
    "from deap import base, creator, tools, algorithms\n",
    "\n",
    "def fitness_function(individual, X_train, y_train, X_test, y_test):\n",
    "    clf = DecisionTreeClassifier()\n",
    "    clf.fit(X_train[:, individual], y_train)\n",
    "    y_pred = clf.predict(X_test[:, individual])\n",
    "    accuracy = accuracy_score(y_test, y_pred)\n",
    "    return accuracy,\n",
    "start_time = time()\n",
    "def genetic_algorithm_feature_selection(X_train, X_test, y_train, y_test):\n",
    "    n_features = X_train.shape[1]\n",
    "    creator.create(\"FitnessMax\", base.Fitness, weights=(1.0,))\n",
    "    creator.create(\"Individual\", list, fitness=creator.FitnessMax)\n",
    "    toolbox = base.Toolbox()\n",
    "    toolbox.register(\"attribute\", random.randint, 0, 1)\n",
    "    toolbox.register(\"individual\", tools.initRepeat, creator.Individual, toolbox.attribute, n=n_features)\n",
    "    toolbox.register(\"population\", tools.initRepeat, list, toolbox.individual)\n",
    "    toolbox.register(\"mate\", tools.cxTwoPoint)\n",
    "    toolbox.register(\"mutate\", tools.mutFlipBit, indpb=0.05)\n",
    "    toolbox.register(\"select\", tools.selTournament, tournsize=3)\n",
    "    toolbox.register(\"evaluate\", fitness_function, X_train=X_train, y_train=y_train, X_test=X_test, y_test=y_test)\n",
    "    pop = toolbox.population(n=50)\n",
    "    hof = tools.HallOfFame(1)\n",
    "    stats = tools.Statistics(lambda ind: ind.fitness.values)\n",
    "    stats.register(\"avg\", np.mean)\n",
    "    stats.register(\"min\", np.min)\n",
    "    stats.register(\"max\", np.max)\n",
    "    cxpb = 0.5\n",
    "    mutpb = 0.2\n",
    "    ngen = 50\n",
    "    pop, log = algorithms.eaSimple(pop, toolbox, cxpb, mutpb, ngen, stats=stats, halloffame=hof, verbose=True)\n",
    "    best_individual = hof[0]\n",
    "    end_time = time()\n",
    "    print(f\"Computation Time for GA: {end_time - start_time:.2f}s\")\n",
    "    return np.where(best_individual)[0][:4]\n",
    "\n",
    "# example usage\n",
    "selected_features_indices_GA = genetic_algorithm_feature_selection(X_train.values, X_test.values, y_train.values, y_test.values)\n",
    "print(\"Selected Features indices:\", selected_features_indices_GA)\n",
    "print(\"Selected Features by GA:\", X_train.columns[selected_features_indices_GA])\n"
   ]
  },
  {
   "cell_type": "code",
   "execution_count": 22,
   "id": "49013cbd",
   "metadata": {},
   "outputs": [],
   "source": [
    "# 3. HYBRID GRASSHOPPER OPTIMIZATION ALGORITHM WITH GENETIC ALGORITHM (GOA-GA)\n",
    "\n",
    "# Define fitness function\n",
    "def fitness_function(X_train, X_test, y_train, y_test, feature_mask):\n",
    "    # Check that at least one feature is selected\n",
    "    if not any(feature_mask):\n",
    "        return -1\n",
    "    \n",
    "    X_train_reduced = X_train.loc[:, feature_mask]\n",
    "\n",
    "    X_test_reduced = X_test.loc[:, feature_mask]\n",
    "\n",
    "    clf = DecisionTreeClassifier()\n",
    "    clf.fit(X_train_reduced, y_train)\n",
    "    accuracy = clf.score(X_test_reduced, y_test)\n",
    "    return accuracy\n",
    "\n",
    "# Define GOA-GA function\n",
    "def goa_ga(X_train, X_test, y_train, y_test, max_iter, n_agents, pc, pm):\n",
    "    # Initialize important parameters\n",
    "    n_features = X_train.shape[1]\n",
    "    feature_mask = np.ones(n_features, dtype=bool)\n",
    "    agent_positions = np.zeros((n_agents, n_features), dtype=bool)\n",
    "    agent_fitness = np.zeros(n_agents)\n",
    "    best_agent_position = np.zeros(n_features, dtype=bool)\n",
    "    best_agent_fitness = 0\n",
    "    start_time = time()\n",
    "    # Initialize the population randomly in the search space\n",
    "    for i in range(n_agents):\n",
    "        agent_positions[i] = np.random.choice([True, False], size=n_features)\n",
    "        agent_fitness[i] = fitness_function(X_train, X_test, y_train, y_test, agent_positions[i])\n",
    "        if agent_fitness[i] > best_agent_fitness:\n",
    "            best_agent_position = agent_positions[i].copy()\n",
    "            best_agent_fitness = agent_fitness[i]\n",
    "    \n",
    "    # Main loop\n",
    "    for iteration in range(max_iter):\n",
    "        # Update the position of the agents in the search space using GOA\n",
    "        for i in range(n_agents):\n",
    "            r_i = np.random.uniform(0, 1, size=n_features)\n",
    "            for j in range(n_features):\n",
    "                x_ij = agent_positions[i][j]\n",
    "                x_best_j = best_agent_position[j]\n",
    "                x_j = agent_positions[:, j]\n",
    "                d_ij = np.abs(x_j ^ x_ij)\n",
    "                if x_ij:\n",
    "                    if np.sum(x_j) > 0:\n",
    "                        a = np.sum(d_ij * x_j) / np.sum(x_j)\n",
    "                        b = np.sum(d_ij * (1 - x_j)) / np.sum(1 - x_j)\n",
    "                        c = r_i[j] * (a + b) / 2\n",
    "                        e_j = c * np.exp(-iteration / max_iter)\n",
    "                        agent_positions[i][j] = np.random.choice([True, False], p=[e_j, 1 - e_j])\n",
    "                else:\n",
    "                    if np.sum(x_j) > 0:\n",
    "                        a = np.sum(d_ij * x_j) / np.sum(x_j)\n",
    "                        b = np.sum(d_ij * (1 - x_j)) / np.sum(1 - x_j)\n",
    "                        c = r_i[j] * (a + b) / 2\n",
    "                        e_j = c * np.exp(-iteration / max_iter)\n",
    "                        agent_positions[i][j] = np.random.choice([True, False], p=[1 - e_j, e_j])\n",
    "        # Evaluate the updated solutions\n",
    "        for i in range(n_agents):\n",
    "            agent_fitness[i] = fitness_function(X_train, X_test, y_train, y_test, agent_positions[i])\n",
    "            # Update best agent\n",
    "            if agent_fitness[i] > best_agent_fitness:\n",
    "                best_agent_position = agent_positions[i].copy()\n",
    "                best_agent_fitness = agent_fitness[i]\n",
    "        \n",
    "        # Solution Evolution using GA\n",
    "        # Selection\n",
    "        fitness_scores = agent_fitness - np.min(agent_fitness)\n",
    "        \n",
    "        if np.sum(fitness_scores) == 0:\n",
    "            fitness_scores = np.ones(n_agents)\n",
    "        fitness_scores /= np.sum(fitness_scores)\n",
    "        selected_agents = np.random.choice(np.arange(n_agents), size=n_agents, p=fitness_scores)\n",
    "        # Crossover\n",
    "        for i in range(0, n_agents, 2):\n",
    "            if np.random.rand() < pc:\n",
    "                # select parents\n",
    "                parent1 = agent_positions[selected_agents[i]]\n",
    "                parent2 = agent_positions[selected_agents[i+1]]\n",
    "                # select crossover point\n",
    "                crossover_point = np.random.randint(n_features)\n",
    "                # perform crossover\n",
    "                child1 = np.concatenate((parent1[:crossover_point], parent2[crossover_point:]))\n",
    "                child2 = np.concatenate((parent2[:crossover_point], parent1[crossover_point:]))\n",
    "                # update agent positions\n",
    "                agent_positions[selected_agents[i]] = child1\n",
    "                agent_positions[selected_agents[i+1]] = child2\n",
    "        # Mutation\n",
    "        for i in range(n_agents):\n",
    "            if np.random.rand() < pm:\n",
    "                # select mutation point\n",
    "                mutation_point = np.random.randint(n_features)\n",
    "                # perform mutation\n",
    "                agent_positions[i][mutation_point] = not agent_positions[i][mutation_point]\n",
    "        # Elitist strategy\n",
    "        best_agent_index = np.argmax(agent_fitness)\n",
    "        agent_positions[0] = best_agent_position\n",
    "        agent_fitness[0] = best_agent_fitness\n",
    "        \n",
    "    end_time = time()\n",
    "    print(f\"Computation Time for GOA-GA: {end_time - start_time:.2f}s\")\n",
    "    \n",
    "    # Return best solution\n",
    "    return best_agent_position, best_agent_fitness\n",
    "\n"
   ]
  },
  {
   "cell_type": "code",
   "execution_count": 23,
   "id": "4e0248a4",
   "metadata": {},
   "outputs": [
    {
     "name": "stdout",
     "output_type": "stream",
     "text": [
      "Computation Time for GOA-GA: 4488.96s\n",
      "Top 4 features indices by GOA-GA: [2 4 5 9]\n",
      "Top 4 features by GOA-GA: Index(['who CH', 'ADV_S', 'SCH_S', 'dist_CH_To_BS'], dtype='object')\n"
     ]
    }
   ],
   "source": [
    "# Call the goa_ga() function\n",
    "max_iter = 50\n",
    "n_agents = 50\n",
    "pc = 0.8\n",
    "pm = 0.1\n",
    "best_agent_position, best_agent_fitness = goa_ga(X_train, X_test, y_train, y_test, max_iter, n_agents, pc, pm)\n",
    "\n",
    "# Get the indices of the top 4 features\n",
    "top_4_indices_GOAGA = np.argsort(best_agent_position)[-4:]\n",
    "\n",
    "# Get the names of the top 4 features\n",
    "top_4_features_GOAGA = X_train.columns[top_4_indices_GOAGA]\n",
    "\n",
    "# Display the top 4 features\n",
    "print(\"Top 4 features indices by GOA-GA:\", top_4_indices_GOAGA)\n",
    "print(\"Top 4 features by GOA-GA:\", top_4_features_GOAGA)\n"
   ]
  },
  {
   "cell_type": "code",
   "execution_count": 24,
   "id": "17fd6432",
   "metadata": {},
   "outputs": [],
   "source": [
    "# 4. DIFFERENTIAL EVOLUTION (DE)\n",
    "\n",
    "def fitness_func(features, X_train, X_test, y_train, y_test):\n",
    "    clf = DecisionTreeClassifier()\n",
    "    clf.fit(X_train[:, features], y_train)\n",
    "    return clf.score(X_test[:, features], y_test)\n",
    "\n",
    "def differential_evolution(X_train, X_test, y_train, y_test, max_iter, n_agents, F, CR):\n",
    "    n_features = X_train.shape[1]\n",
    "    agents_position = np.random.rand(n_agents, n_features) < 0.5\n",
    "    agents_fitness = np.array([fitness_func(features, X_train, X_test, y_train, y_test) for features in agents_position])\n",
    "    best_agent_index = np.argmax(agents_fitness)\n",
    "    best_agent_position = agents_position[best_agent_index]\n",
    "    best_agent_fitness = agents_fitness[best_agent_index]\n",
    "    start_time = time()\n",
    "    for i in range(max_iter):\n",
    "        for j in range(n_agents):\n",
    "            # Mutation\n",
    "            r1, r2, r3 = np.random.choice(n_agents, 3, replace=False)\n",
    "            mutant_agent_position = np.copy(agents_position[r1])\n",
    "            mutant_agent_position += (F * (agents_position[r2].astype(int) ^ agents_position[r3].astype(int))).astype(bool)\n",
    "            mutant_agent_position[mutant_agent_position < 0] = False\n",
    "            mutant_agent_position[mutant_agent_position >= 1] = True\n",
    "            # Crossover\n",
    "            trial_agent_position = np.copy(agents_position[j])\n",
    "            crossover_mask = np.random.rand(n_features) < CR\n",
    "            crossover_mask[np.random.randint(n_features)] = True\n",
    "            trial_agent_position[crossover_mask] = mutant_agent_position[crossover_mask]\n",
    "            # Selection\n",
    "            trial_agent_fitness = fitness_func(trial_agent_position, X_train, X_test, y_train, y_test)\n",
    "            if trial_agent_fitness >= agents_fitness[j]:\n",
    "                agents_position[j] = trial_agent_position\n",
    "                agents_fitness[j] = trial_agent_fitness\n",
    "                if trial_agent_fitness >= best_agent_fitness:\n",
    "                    best_agent_position = trial_agent_position\n",
    "                    best_agent_fitness = trial_agent_fitness\n",
    "        print(f\"Iteration {i+1}/{max_iter} - Best Fitness: {best_agent_fitness}\")\n",
    "    end_time = time()\n",
    "    print(f\"Computation Time: {end_time - start_time:.2f}s\")\n",
    "    return best_agent_position, best_agent_fitness\n"
   ]
  },
  {
   "cell_type": "code",
   "execution_count": 25,
   "id": "2c1247a7",
   "metadata": {},
   "outputs": [
    {
     "name": "stdout",
     "output_type": "stream",
     "text": [
      "Iteration 1/50 - Best Fitness: 0.9896173453500476\n",
      "Iteration 2/50 - Best Fitness: 0.9896173453500476\n",
      "Iteration 3/50 - Best Fitness: 0.9896351391026611\n",
      "Iteration 4/50 - Best Fitness: 0.9896885203605015\n",
      "Iteration 5/50 - Best Fitness: 0.9896885203605015\n",
      "Iteration 6/50 - Best Fitness: 0.9896885203605015\n",
      "Iteration 7/50 - Best Fitness: 0.9896885203605015\n",
      "Iteration 8/50 - Best Fitness: 0.9896885203605015\n",
      "Iteration 9/50 - Best Fitness: 0.9896885203605015\n",
      "Iteration 10/50 - Best Fitness: 0.9896885203605015\n",
      "Iteration 11/50 - Best Fitness: 0.9896885203605015\n",
      "Iteration 12/50 - Best Fitness: 0.9896885203605015\n",
      "Iteration 13/50 - Best Fitness: 0.9896885203605015\n",
      "Iteration 14/50 - Best Fitness: 0.9896885203605015\n",
      "Iteration 15/50 - Best Fitness: 0.9896885203605015\n",
      "Iteration 16/50 - Best Fitness: 0.9896885203605015\n",
      "Iteration 17/50 - Best Fitness: 0.9896885203605015\n",
      "Iteration 18/50 - Best Fitness: 0.9896885203605015\n",
      "Iteration 19/50 - Best Fitness: 0.9896885203605015\n",
      "Iteration 20/50 - Best Fitness: 0.9896885203605015\n",
      "Iteration 21/50 - Best Fitness: 0.9896885203605015\n",
      "Iteration 22/50 - Best Fitness: 0.9896885203605015\n",
      "Iteration 23/50 - Best Fitness: 0.9896885203605015\n",
      "Iteration 24/50 - Best Fitness: 0.9896885203605015\n",
      "Iteration 25/50 - Best Fitness: 0.9896885203605015\n",
      "Iteration 26/50 - Best Fitness: 0.9896885203605015\n",
      "Iteration 27/50 - Best Fitness: 0.9896885203605015\n",
      "Iteration 28/50 - Best Fitness: 0.9896885203605015\n",
      "Iteration 29/50 - Best Fitness: 0.9896885203605015\n",
      "Iteration 30/50 - Best Fitness: 0.9896885203605015\n",
      "Iteration 31/50 - Best Fitness: 0.9896885203605015\n",
      "Iteration 32/50 - Best Fitness: 0.9896885203605015\n",
      "Iteration 33/50 - Best Fitness: 0.9896974172368082\n",
      "Iteration 34/50 - Best Fitness: 0.9896974172368082\n",
      "Iteration 35/50 - Best Fitness: 0.9897063141131149\n",
      "Iteration 36/50 - Best Fitness: 0.9897063141131149\n",
      "Iteration 37/50 - Best Fitness: 0.9897063141131149\n",
      "Iteration 38/50 - Best Fitness: 0.9897063141131149\n",
      "Iteration 39/50 - Best Fitness: 0.9897952828761821\n",
      "Iteration 40/50 - Best Fitness: 0.9897952828761821\n",
      "Iteration 41/50 - Best Fitness: 0.9897952828761821\n",
      "Iteration 42/50 - Best Fitness: 0.9897952828761821\n",
      "Iteration 43/50 - Best Fitness: 0.9897952828761821\n",
      "Iteration 44/50 - Best Fitness: 0.9897952828761821\n",
      "Iteration 45/50 - Best Fitness: 0.9897952828761821\n",
      "Iteration 46/50 - Best Fitness: 0.9897952828761821\n",
      "Iteration 47/50 - Best Fitness: 0.9897952828761821\n",
      "Iteration 48/50 - Best Fitness: 0.9897952828761821\n",
      "Iteration 49/50 - Best Fitness: 0.9897952828761821\n",
      "Iteration 50/50 - Best Fitness: 0.9897952828761821\n",
      "Computation Time: 3219.54s\n",
      "Top 4 Feature Indices by DE: [6 7 8 9]\n"
     ]
    }
   ],
   "source": [
    "max_iter = 50\n",
    "n_agents = 30\n",
    "F = 0.5\n",
    "CR = 0.7\n",
    "best_agent_position, best_agent_fitness = differential_evolution(X_train.values, X_test.values, y_train, y_test, max_iter, n_agents, F, CR)\n",
    "top_4_indices_DE = np.argsort(best_agent_position)[-4:]\n",
    "print(\"Top 4 Feature Indices by DE:\", top_4_indices_DE)"
   ]
  },
  {
   "cell_type": "code",
   "execution_count": 26,
   "id": "b2aa5233",
   "metadata": {},
   "outputs": [
    {
     "name": "stdout",
     "output_type": "stream",
     "text": [
      "Top 4 Features by DE: Index(['SCH_R', 'send_code', 'DATA_S', 'dist_CH_To_BS'], dtype='object')\n"
     ]
    }
   ],
   "source": [
    "top_4_indices_DE = np.argsort(best_agent_position)[-4:]\n",
    "top_4_features_DE = X_train.columns[top_4_indices_DE]\n",
    "print(\"Top 4 Features by DE:\", top_4_features_DE)"
   ]
  },
  {
   "cell_type": "markdown",
   "id": "677c6b68",
   "metadata": {},
   "source": [
    "#### MODULE 3: Training of Machine Learning Classifiers"
   ]
  },
  {
   "cell_type": "markdown",
   "id": "1471818f",
   "metadata": {},
   "source": [
    "1. Classification using Multilayer Perceptron (MLP) algorithm"
   ]
  },
  {
   "cell_type": "code",
   "execution_count": 27,
   "id": "94d8b2b6",
   "metadata": {},
   "outputs": [],
   "source": [
    "from sklearn.neural_network import MLPClassifier"
   ]
  },
  {
   "cell_type": "code",
   "execution_count": 28,
   "id": "9b54a8ca",
   "metadata": {},
   "outputs": [
    {
     "name": "stdout",
     "output_type": "stream",
     "text": [
      "Cross validation score with k=5: [0.90793663 0.90799382 0.90795394 0.90795394 0.90793487]\n"
     ]
    }
   ],
   "source": [
    "# For features selected by GOA\n",
    "\n",
    "# Select the top features using the GOA\n",
    "\n",
    "X_train_subset = X_train.iloc[:, top_features_indices_GOA]\n",
    "selected_features = X_train.columns[top_features_indices_GOA]\n",
    "\n",
    "# Train the MLP classifier using the selected features\n",
    "mlp_GOA = MLPClassifier()\n",
    "mlp_GOA.fit(X_train[selected_features], y_train)\n",
    "\n",
    "# K-fold Cross Validation with k = 5\n",
    "cross_score_MLP_GOA = cross_val_score(mlp_GOA, X_train_subset, y_train, cv=5)\n",
    "print('Cross validation score with k=5:', cross_score_MLP_GOA)"
   ]
  },
  {
   "cell_type": "code",
   "execution_count": 29,
   "id": "89356e15",
   "metadata": {},
   "outputs": [
    {
     "name": "stdout",
     "output_type": "stream",
     "text": [
      "Cross validation score with k=5: [0.94124264 0.94200522 0.93843895 0.93380615 0.94000229]\n"
     ]
    }
   ],
   "source": [
    "# For features selected by GA\n",
    "\n",
    "# Select the top features using the GA\n",
    "\n",
    "X_train_subset = X_train.iloc[:, selected_features_indices_GA]\n",
    "selected_features = X_train.columns[selected_features_indices_GA]\n",
    "\n",
    "# Train the MLP classifier using the selected features\n",
    "mlp_GA = MLPClassifier()\n",
    "mlp_GA.fit(X_train[selected_features], y_train)\n",
    "\n",
    "# K-fold Cross Validation with k = 5\n",
    "cross_score_MLP_GA = cross_val_score(mlp_GA, X_train_subset, y_train, cv=5)\n",
    "print('Cross validation score with k=5:', cross_score_MLP_GA)"
   ]
  },
  {
   "cell_type": "code",
   "execution_count": 30,
   "id": "40d571e1",
   "metadata": {},
   "outputs": [
    {
     "name": "stdout",
     "output_type": "stream",
     "text": [
      "Cross validation score with k=5: [0.90812728 0.90810821 0.9080302  0.907973   0.90793487]\n"
     ]
    }
   ],
   "source": [
    "# For features selected by GOA-GA\n",
    "\n",
    "# Select the top features using the GOA-GA\n",
    "\n",
    "X_train_subset = X_train.iloc[:, top_4_indices_GOAGA]\n",
    "selected_features = X_train.columns[top_4_indices_GOAGA]\n",
    "\n",
    "# Train the MLP classifier using the selected features\n",
    "mlp_GOAGA = MLPClassifier()\n",
    "mlp_GOAGA.fit(X_train[selected_features], y_train)\n",
    "\n",
    "# K-fold Cross Validation with k = 5\n",
    "cross_score_MLP_GOAGA = cross_val_score(mlp_GOAGA, X_train_subset, y_train, cv=5)\n",
    "print('Cross validation score with k=5:', cross_score_MLP_GOAGA)"
   ]
  },
  {
   "cell_type": "code",
   "execution_count": 31,
   "id": "6abc81df",
   "metadata": {},
   "outputs": [
    {
     "name": "stdout",
     "output_type": "stream",
     "text": [
      "Cross validation score with k=5: [0.93569481 0.93542791 0.93563639 0.93761916 0.93493098]\n"
     ]
    }
   ],
   "source": [
    "# For features selected by DE\n",
    "\n",
    "# Select the top features using the DE\n",
    "\n",
    "X_train_subset = X_train.iloc[:, top_4_indices_DE]\n",
    "selected_features = X_train.columns[top_4_indices_DE]\n",
    "\n",
    "# Train the MLP classifier using the selected features\n",
    "mlp_DE = MLPClassifier()\n",
    "mlp_DE.fit(X_train[selected_features], y_train)\n",
    "\n",
    "# K-fold Cross Validation with k = 5\n",
    "cross_score_MLP_DE = cross_val_score(mlp_DE, X_train_subset, y_train, cv=5)\n",
    "print('Cross validation score with k=5:', cross_score_MLP_DE)"
   ]
  },
  {
   "cell_type": "markdown",
   "id": "0cac9050",
   "metadata": {},
   "source": [
    "2. Classification using Naive Bayes (NB) algorithm"
   ]
  },
  {
   "cell_type": "code",
   "execution_count": 32,
   "id": "bbe141cb",
   "metadata": {},
   "outputs": [],
   "source": [
    "from sklearn.naive_bayes import GaussianNB"
   ]
  },
  {
   "cell_type": "code",
   "execution_count": 33,
   "id": "df2cee77",
   "metadata": {},
   "outputs": [
    {
     "name": "stdout",
     "output_type": "stream",
     "text": [
      "Cross validation score with k=5: [0.85733895 0.85453644 0.85554412 0.85628765 0.85920461]\n"
     ]
    }
   ],
   "source": [
    "# For features selected by GOA\n",
    "\n",
    "# Select the top features using the GOA\n",
    "\n",
    "X_train_subset = X_train.iloc[:, top_features_indices_GOA]\n",
    "selected_features = X_train.columns[top_features_indices_GOA]\n",
    "\n",
    "# Train the Naive Bayes classifier using the selected features\n",
    "nb_GOA = GaussianNB()\n",
    "nb_GOA.fit(X_train[selected_features], y_train)\n",
    "\n",
    "# K-fold Cross Validation with k = 5\n",
    "cross_score_NB_GOA = cross_val_score(nb_GOA, X_train_subset, y_train, cv=5)\n",
    "print('Cross validation score with k=5:', cross_score_NB_GOA)"
   ]
  },
  {
   "cell_type": "code",
   "execution_count": 34,
   "id": "f14504ea",
   "metadata": {},
   "outputs": [
    {
     "name": "stdout",
     "output_type": "stream",
     "text": [
      "Cross validation score with k=5: [0.93071893 0.93123368 0.9311561  0.93172806 0.93027911]\n"
     ]
    }
   ],
   "source": [
    "# For features selected by GA\n",
    "\n",
    "# Select the top features using the GA\n",
    "\n",
    "X_train_subset = X_train.iloc[:, selected_features_indices_GA]\n",
    "selected_features = X_train.columns[selected_features_indices_GA]\n",
    "\n",
    "# Train the Naive Bayes classifier using the selected features\n",
    "nb_GA = GaussianNB()\n",
    "nb_GA.fit(X_train[selected_features], y_train)\n",
    "\n",
    "# K-fold Cross Validation with k = 5\n",
    "cross_score_NB_GA = cross_val_score(nb_GA, X_train_subset, y_train, cv=5)\n",
    "print('Cross validation score with k=5:', cross_score_NB_GA)"
   ]
  },
  {
   "cell_type": "code",
   "execution_count": 35,
   "id": "dbacd6ae",
   "metadata": {},
   "outputs": [
    {
     "name": "stdout",
     "output_type": "stream",
     "text": [
      "Cross validation score with k=5: [0.87579357 0.87505004 0.87603905 0.87638222 0.87741173]\n"
     ]
    }
   ],
   "source": [
    "# For features selected by GOA-GA\n",
    "\n",
    "# Select the top features using the GOA-GA\n",
    "\n",
    "X_train_subset = X_train.iloc[:, top_4_indices_GOAGA]\n",
    "selected_features = X_train.columns[top_4_indices_GOAGA]\n",
    "\n",
    "# Train the Naive Bayes classifier using the selected features\n",
    "nb_GOAGA = GaussianNB()\n",
    "nb_GOAGA.fit(X_train[selected_features], y_train)\n",
    "\n",
    "# K-fold Cross Validation with k = 5\n",
    "cross_score_NB_GOAGA = cross_val_score(nb_GOAGA, X_train_subset, y_train, cv=5)\n",
    "print('Cross validation score with k=5:', cross_score_NB_GOAGA)"
   ]
  },
  {
   "cell_type": "code",
   "execution_count": 36,
   "id": "f2fdbe93",
   "metadata": {},
   "outputs": [
    {
     "name": "stdout",
     "output_type": "stream",
     "text": [
      "Cross validation score with k=5: [0.82407107 0.82550092 0.82530695 0.82528788 0.82742317]\n"
     ]
    }
   ],
   "source": [
    "# For features selected by DE\n",
    "\n",
    "# Select the top features using the DE\n",
    "\n",
    "X_train_subset = X_train.iloc[:, top_4_indices_DE]\n",
    "selected_features = X_train.columns[top_4_indices_DE]\n",
    "\n",
    "# Train the Naive Bayes classifier using the selected features\n",
    "nb_DE = GaussianNB()\n",
    "nb_DE.fit(X_train[selected_features], y_train)\n",
    "\n",
    "# K-fold Cross Validation with k = 5\n",
    "cross_score_NB_DE = cross_val_score(nb_DE, X_train_subset, y_train, cv=5)\n",
    "print('Cross validation score with k=5:', cross_score_NB_DE)"
   ]
  },
  {
   "cell_type": "markdown",
   "id": "8d098058",
   "metadata": {},
   "source": [
    "3. Classification using Logistic Regression (LR) algorithm"
   ]
  },
  {
   "cell_type": "code",
   "execution_count": 41,
   "id": "fb2345e7",
   "metadata": {},
   "outputs": [],
   "source": [
    "from sklearn.linear_model import LogisticRegression"
   ]
  },
  {
   "cell_type": "code",
   "execution_count": 48,
   "id": "6a8cc634",
   "metadata": {},
   "outputs": [
    {
     "name": "stdout",
     "output_type": "stream",
     "text": [
      "Cross validation score with k=5: [0.93443654 0.93460813 0.92185236 0.93430184 0.9343781 ]\n"
     ]
    }
   ],
   "source": [
    "# For features selected by GOA\n",
    "\n",
    "# Select the top features using the GOA\n",
    "\n",
    "X_train_subset = X_train.iloc[:, top_features_indices_GOA]\n",
    "selected_features = X_train.columns[top_features_indices_GOA]\n",
    "\n",
    "# Train the Logistic Regression classifier using the selected features\n",
    "lr_GOA = LogisticRegression(max_iter=5000)\n",
    "lr_GOA.fit(X_train[selected_features], y_train)\n",
    "\n",
    "# K-fold Cross Validation with k = 5\n",
    "cross_score_LR_GOA = cross_val_score(lr_GOA, X_train_subset, y_train, cv=5)\n",
    "print('Cross validation score with k=5:', cross_score_LR_GOA)"
   ]
  },
  {
   "cell_type": "code",
   "execution_count": 47,
   "id": "8b805811",
   "metadata": {},
   "outputs": [
    {
     "name": "stdout",
     "output_type": "stream",
     "text": [
      "Cross validation score with k=5: [0.94011782 0.94048005 0.93939221 0.93956379 0.93973538]\n"
     ]
    }
   ],
   "source": [
    "# For features selected by GA\n",
    "\n",
    "# Select the top features using the GA\n",
    "\n",
    "X_train_subset = X_train.iloc[:, selected_features_indices_GA]\n",
    "selected_features = X_train.columns[selected_features_indices_GA]\n",
    "\n",
    "# Train the Logistic Regression classifier using the selected features\n",
    "lr_GA = LogisticRegression(max_iter=5000)\n",
    "lr_GA.fit(X_train[selected_features], y_train)\n",
    "                        \n",
    "# K-fold Cross Validation with k = 5\n",
    "cross_score_LR_GA = cross_val_score(lr_GA, X_train_subset, y_train, cv=5)\n",
    "print('Cross validation score with k=5:', cross_score_LR_GA)"
   ]
  },
  {
   "cell_type": "code",
   "execution_count": 49,
   "id": "60714091",
   "metadata": {},
   "outputs": [
    {
     "name": "stdout",
     "output_type": "stream",
     "text": [
      "Cross validation score with k=5: [0.89098812 0.90793663 0.89874552 0.89866926 0.8989743 ]\n"
     ]
    }
   ],
   "source": [
    "# For features selected by GOA-GA\n",
    "\n",
    "# Select the top features using the GOA-GA\n",
    "\n",
    "X_train_subset = X_train.iloc[:, top_4_indices_GOAGA]\n",
    "selected_features = X_train.columns[top_4_indices_GOAGA]\n",
    "\n",
    "# Train the Logistic Regression classifier using the selected features\n",
    "lr_GOAGA = LogisticRegression(max_iter=5000)\n",
    "lr_GOAGA.fit(X_train[selected_features], y_train)\n",
    "\n",
    "# K-fold Cross Validation with k = 5\n",
    "cross_score_LR_GOAGA = cross_val_score(lr_GOAGA, X_train_subset, y_train, cv=5)\n",
    "print('Cross validation score with k=5:', cross_score_LR_GOAGA)"
   ]
  },
  {
   "cell_type": "code",
   "execution_count": 50,
   "id": "7a33cabe",
   "metadata": {},
   "outputs": [
    {
     "name": "stdout",
     "output_type": "stream",
     "text": [
      "Cross validation score with k=5: [0.93582827 0.93792538 0.93561733 0.93740944 0.93582704]\n"
     ]
    }
   ],
   "source": [
    "# For features selected by DE\n",
    "\n",
    "# Select the top features using the DE\n",
    "\n",
    "X_train_subset = X_train.iloc[:, top_4_indices_DE]\n",
    "selected_features = X_train.columns[top_4_indices_DE]\n",
    "\n",
    "# Train the Logistic Regression classifier using the selected features\n",
    "lr_DE = LogisticRegression(max_iter=5000)\n",
    "lr_DE.fit(X_train[selected_features], y_train)\n",
    "\n",
    "# K-fold Cross Validation with k = 5\n",
    "cross_score_LR_DE = cross_val_score(lr_DE, X_train_subset, y_train, cv=5)\n",
    "print('Cross validation score with k=5:', cross_score_LR_DE)"
   ]
  },
  {
   "cell_type": "markdown",
   "id": "ca4cba26",
   "metadata": {},
   "source": [
    "4. Classification using Decision Tree based on CART algorithm"
   ]
  },
  {
   "cell_type": "code",
   "execution_count": 37,
   "id": "ccd73d53",
   "metadata": {},
   "outputs": [
    {
     "name": "stdout",
     "output_type": "stream",
     "text": [
      "Cross validation score with k=5: [0.95258612 0.95271958 0.95075498 0.95159384 0.95153664]\n"
     ]
    }
   ],
   "source": [
    "# For features selected by GOA\n",
    "\n",
    "# Select the top features using the GOA\n",
    "\n",
    "X_train_subset = X_train.iloc[:, top_features_indices_GOA]\n",
    "selected_features = X_train.columns[top_features_indices_GOA]\n",
    "\n",
    "# Train the Decision Tree (CART) classifier using the selected features\n",
    "dt_GOA = DecisionTreeClassifier()\n",
    "dt_GOA.fit(X_train[selected_features], y_train)\n",
    "\n",
    "# K-fold Cross Validation with k = 5\n",
    "cross_score_DT_GOA = cross_val_score(dt_GOA, X_train_subset, y_train, cv=5)\n",
    "print('Cross validation score with k=5:', cross_score_DT_GOA)"
   ]
  },
  {
   "cell_type": "code",
   "execution_count": 38,
   "id": "b29ce571",
   "metadata": {},
   "outputs": [
    {
     "name": "stdout",
     "output_type": "stream",
     "text": [
      "Cross validation score with k=5: [0.93966027 0.94088041 0.94004042 0.94063143 0.94005948]\n"
     ]
    }
   ],
   "source": [
    "# For features selected by GA\n",
    "\n",
    "# Select the top features using the GA\n",
    "\n",
    "X_train_subset = X_train.iloc[:, selected_features_indices_GA]\n",
    "selected_features = X_train.columns[selected_features_indices_GA]\n",
    "\n",
    "# Train the Decision Tree (CART) classifier using the selected features\n",
    "dt_GA = DecisionTreeClassifier()\n",
    "dt_GA.fit(X_train[selected_features], y_train)\n",
    "\n",
    "# K-fold Cross Validation with k = 5\n",
    "cross_score_DT_GA = cross_val_score(dt_GA, X_train_subset, y_train, cv=5)\n",
    "print('Cross validation score with k=5:', cross_score_DT_GA)"
   ]
  },
  {
   "cell_type": "code",
   "execution_count": 39,
   "id": "a864bd1e",
   "metadata": {},
   "outputs": [
    {
     "name": "stdout",
     "output_type": "stream",
     "text": [
      "Cross validation score with k=5: [0.97104074 0.97100261 0.96976283 0.97071608 0.97067795]\n"
     ]
    }
   ],
   "source": [
    "# For features selected by GOA-GA\n",
    "\n",
    "# Select the top features using the GOA-GA\n",
    "\n",
    "X_train_subset = X_train.iloc[:, top_4_indices_GOAGA]\n",
    "selected_features = X_train.columns[top_4_indices_GOAGA]\n",
    "\n",
    "# Train the Decision Tree (CART) classifier using the selected features\n",
    "dt_GOAGA = DecisionTreeClassifier()\n",
    "dt_GOAGA.fit(X_train[selected_features], y_train)\n",
    "\n",
    "# K-fold Cross Validation with k = 5\n",
    "cross_score_DT_GOAGA = cross_val_score(dt_GOAGA, X_train_subset, y_train, cv=5)\n",
    "print('Cross validation score with k=5:', cross_score_DT_GOAGA)"
   ]
  },
  {
   "cell_type": "code",
   "execution_count": 40,
   "id": "b1152475",
   "metadata": {},
   "outputs": [
    {
     "name": "stdout",
     "output_type": "stream",
     "text": [
      "Cross validation score with k=5: [0.95026023 0.95033649 0.95086937 0.95081217 0.95069778]\n"
     ]
    }
   ],
   "source": [
    "# For features selected by DE\n",
    "\n",
    "# Select the top features using the DE\n",
    "\n",
    "X_train_subset = X_train.iloc[:, top_4_indices_DE]\n",
    "selected_features = X_train.columns[top_4_indices_DE]\n",
    "\n",
    "# Train the Decision Tree (CART) classifier using the selected features\n",
    "dt_DE = DecisionTreeClassifier()\n",
    "dt_DE.fit(X_train[selected_features], y_train)\n",
    "\n",
    "# K-fold Cross Validation with k = 5\n",
    "cross_score_DT_DE = cross_val_score(dt_DE, X_train_subset, y_train, cv=5)\n",
    "print('Cross validation score with k=5:', cross_score_DT_DE)"
   ]
  },
  {
   "cell_type": "markdown",
   "id": "e38d81f0",
   "metadata": {},
   "source": [
    "#### MODULE 4: Recognition of Attack on Test Data and Unseen Data and Performance Metrics Evaluation"
   ]
  },
  {
   "cell_type": "markdown",
   "id": "67111b36",
   "metadata": {},
   "source": [
    "#### Checking model on TEST DATA i.e 30% of the original WSN_DS Dataset "
   ]
  },
  {
   "cell_type": "code",
   "execution_count": null,
   "id": "d5dc9f68",
   "metadata": {},
   "outputs": [],
   "source": []
  },
  {
   "cell_type": "code",
   "execution_count": null,
   "id": "834346f6",
   "metadata": {},
   "outputs": [],
   "source": []
  },
  {
   "cell_type": "markdown",
   "id": "563d8075",
   "metadata": {},
   "source": [
    "#### Checking model on UNSEEN DATA "
   ]
  },
  {
   "cell_type": "code",
   "execution_count": null,
   "id": "010d1ef0",
   "metadata": {},
   "outputs": [],
   "source": []
  },
  {
   "cell_type": "markdown",
   "id": "165e9180",
   "metadata": {},
   "source": [
    "#### MODULE 5: Analysis of DoS Attack Types"
   ]
  },
  {
   "cell_type": "code",
   "execution_count": null,
   "id": "9590e598",
   "metadata": {},
   "outputs": [],
   "source": []
  },
  {
   "cell_type": "code",
   "execution_count": null,
   "id": "219f2518",
   "metadata": {},
   "outputs": [],
   "source": []
  },
  {
   "cell_type": "code",
   "execution_count": null,
   "id": "505398ad",
   "metadata": {},
   "outputs": [],
   "source": []
  },
  {
   "cell_type": "code",
   "execution_count": null,
   "id": "ff4b8ab9",
   "metadata": {},
   "outputs": [],
   "source": []
  },
  {
   "cell_type": "code",
   "execution_count": null,
   "id": "44e2a2a3",
   "metadata": {},
   "outputs": [],
   "source": []
  },
  {
   "cell_type": "code",
   "execution_count": null,
   "id": "107cb0cf",
   "metadata": {},
   "outputs": [],
   "source": [
    "# Train the classifier on the best subset of features\n",
    "X_train_subset = X_train.iloc[:, best_subset]\n",
    "clf = DecisionTreeClassifier()\n",
    "clf.fit(X_train_subset, y_train)"
   ]
  },
  {
   "cell_type": "code",
   "execution_count": null,
   "id": "aa1f12ef",
   "metadata": {},
   "outputs": [],
   "source": [
    "from sklearn.model_selection import cross_val_score\n",
    "scores = cross_val_score(clf, X_train_subset, y_train, cv=5)"
   ]
  },
  {
   "cell_type": "code",
   "execution_count": null,
   "id": "43cdb3eb",
   "metadata": {},
   "outputs": [],
   "source": [
    "# Print the evaluation scores\n",
    "print('Cross validation scores:', scores)"
   ]
  },
  {
   "cell_type": "code",
   "execution_count": null,
   "id": "aea7b0a2",
   "metadata": {},
   "outputs": [],
   "source": [
    "# Evaluate the performance of the classifier on the test set\n",
    "X_test_subset = X_test.iloc[:, best_subset]\n",
    "y_pred = clf.predict(X_test_subset)\n",
    "accuracy = accuracy_score(y_test, y_pred)\n",
    "print('Accuracy:', accuracy)"
   ]
  },
  {
   "cell_type": "code",
   "execution_count": null,
   "id": "71a3da52",
   "metadata": {},
   "outputs": [],
   "source": [
    "\n"
   ]
  },
  {
   "cell_type": "code",
   "execution_count": null,
   "id": "21f87e21",
   "metadata": {},
   "outputs": [],
   "source": []
  }
 ],
 "metadata": {
  "kernelspec": {
   "display_name": "Python 3 (ipykernel)",
   "language": "python",
   "name": "python3"
  },
  "language_info": {
   "codemirror_mode": {
    "name": "ipython",
    "version": 3
   },
   "file_extension": ".py",
   "mimetype": "text/x-python",
   "name": "python",
   "nbconvert_exporter": "python",
   "pygments_lexer": "ipython3",
   "version": "3.9.15"
  }
 },
 "nbformat": 4,
 "nbformat_minor": 5
}
